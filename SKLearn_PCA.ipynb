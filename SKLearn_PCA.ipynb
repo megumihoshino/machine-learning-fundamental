{
  "nbformat": 4,
  "nbformat_minor": 0,
  "metadata": {
    "colab": {
      "provenance": [],
      "authorship_tag": "ABX9TyO7esRM9+TV80fymZzT/1SO",
      "include_colab_link": true
    },
    "kernelspec": {
      "name": "python3",
      "display_name": "Python 3"
    },
    "language_info": {
      "name": "python"
    }
  },
  "cells": [
    {
      "cell_type": "markdown",
      "metadata": {
        "id": "view-in-github",
        "colab_type": "text"
      },
      "source": [
        "<a href=\"https://colab.research.google.com/github/megumihoshino/machine-learning-fundamental/blob/main/SKLearn_PCA.ipynb\" target=\"_parent\"><img src=\"https://colab.research.google.com/assets/colab-badge.svg\" alt=\"Open In Colab\"/></a>"
      ]
    },
    {
      "cell_type": "code",
      "execution_count": null,
      "metadata": {
        "id": "WqQdYvCu-eyP"
      },
      "outputs": [],
      "source": [
        "#DIMENSIONALITY REDUCTION: LDA, PCA, t-SNE\n",
        "\n",
        "'''\n",
        "1. PRINCIPAL COMPONENT ANALYSIS (PCA)\n",
        "7an utk mereduksi dimensi atau mengurangi jml atribut pd dataset tnp mengurangi\n",
        "informasi. PCA bekerja dg menghitung variance dr tiap atribut. variance adlh\n",
        "jml inforasi yg dimiliki sebuah atribut. cth: pd dataset rmh, atribut jml kamar\n",
        "memiliki variance sebsr 92%, dan wrn rmh hny sebesar 4 %m maka atribut wrn rmh dpt\n",
        "dibuang dr dataset.\n",
        "\n",
        "2. LINEAR DISCRIMINANT ANALYSIS (LDA)--> teknik supervised\n",
        "mncari kombinasi atribut terbaik yg dpt memisahkan kls2 pd dataset dan meminimalkan\n",
        "varian pd masing2 kls. LDA memperhatikan bagaimana kelas2 pd data dpt dipisahkan\n",
        "dg baik. dua kriteria utama LDA:\n",
        " - meminimalkan varian pd masing2 kls\n",
        " - memaksimalkan jarak antara rata2 (mean) kedua kls\n",
        "\n",
        "3. t-SNE (t-Distributed Stochastic Neighbor Embedding)\n",
        "teknik non-linear unsupervised utk reduksi dimensi, eksplorasi data, dan visualisasi\n",
        "data dimensi tinggi. algorithm t-SNE memungkinkan kita utk memisahkan data yg\n",
        "tdk dpt dipisahkan oleh garis linear.\n",
        "cth pemakaian t-SNE:\n",
        "  - pemrosesan gbr\n",
        "  - pemrosesan bhs alami\n",
        "  - data genomika\n",
        "  - speech processing'''"
      ]
    },
    {
      "cell_type": "code",
      "source": [
        "from sklearn import datasets\n",
        "from sklearn.model_selection import train_test_split\n",
        "\n",
        "iris = datasets.load_iris()\n",
        "atribut = iris.data\n",
        "label = iris.target\n",
        "\n",
        "#membagi dataset mjd train set dan test set\n",
        "\n",
        "X_train, X_test, y_train, y_test = train_test_split(atribut, label,\n",
        "                                  test_size = 0.2, random_state =1)\n"
      ],
      "metadata": {
        "id": "J9MdSIhcDtRD"
      },
      "execution_count": 1,
      "outputs": []
    },
    {
      "cell_type": "code",
      "source": [
        "#menggunakan decision tree dan menghitung akurasinya\n",
        "from sklearn import tree\n",
        "\n",
        "decision_tree = tree.DecisionTreeClassifier()\n",
        "first_model = decision_tree.fit(X_train, y_train)\n",
        "first_model.score(X_test, y_test)"
      ],
      "metadata": {
        "colab": {
          "base_uri": "https://localhost:8080/"
        },
        "id": "QvjNasXiEvPh",
        "outputId": "3c5fb74b-7b6d-4c4c-e67a-e1af391e6ec9"
      },
      "execution_count": 2,
      "outputs": [
        {
          "output_type": "execute_result",
          "data": {
            "text/plain": [
              "0.9666666666666667"
            ]
          },
          "metadata": {},
          "execution_count": 2
        }
      ]
    },
    {
      "cell_type": "code",
      "source": [
        "#menggunakan PCA dan menghitung variance tiap atribut\n",
        "from sklearn.decomposition import PCA\n",
        "\n",
        "#membuat objek PCA dg 4 principle component\n",
        "pca = PCA(n_components=4)\n",
        "\n",
        "#mengaplikasikan PCA pd dataset\n",
        "pca_attributes = pca.fit_transform(X_train)\n",
        "\n",
        "#melihat variance dari setiap atribut\n",
        "pca.explained_variance_ratio_"
      ],
      "metadata": {
        "colab": {
          "base_uri": "https://localhost:8080/"
        },
        "id": "VreOHs_MFHwt",
        "outputId": "eb54254d-f495-4b19-f120-6097b1701e9c"
      },
      "execution_count": 3,
      "outputs": [
        {
          "output_type": "execute_result",
          "data": {
            "text/plain": [
              "array([0.92848323, 0.04764372, 0.01931005, 0.004563  ])"
            ]
          },
          "metadata": {},
          "execution_count": 3
        }
      ]
    },
    {
      "cell_type": "code",
      "source": [
        "#PCA dgn 2 principal component\n",
        "pca = PCA(n_components=2)\n",
        "X_train_pca = pca.fit_transform(X_train)\n",
        "X_test_pca = pca.fit_transform(X_test)"
      ],
      "metadata": {
        "id": "rxxmcqNmHsvG"
      },
      "execution_count": 5,
      "outputs": []
    },
    {
      "cell_type": "code",
      "source": [
        "#uji akurasi classifier\n",
        "model2 = decision_tree.fit(X_train_pca, y_train)\n",
        "model2.score(X_test_pca, y_test)"
      ],
      "metadata": {
        "colab": {
          "base_uri": "https://localhost:8080/"
        },
        "id": "eL5m2B_DIMQB",
        "outputId": "c1863993-b38e-45f7-fe33-3f083dba4734"
      },
      "execution_count": 6,
      "outputs": [
        {
          "output_type": "execute_result",
          "data": {
            "text/plain": [
              "0.9333333333333333"
            ]
          },
          "metadata": {},
          "execution_count": 6
        }
      ]
    },
    {
      "cell_type": "code",
      "source": [
        "'''dpt disimpulkan, kalau hny dg 2 principal component atau 2 atribut, model\n",
        "msh memiliki akurasi yg tinggi. hal ini dpt diterapkan utk mempercpt wkt\n",
        "pelatihan sebuah model ML'''"
      ],
      "metadata": {
        "id": "cGIB9M4rIg9G"
      },
      "execution_count": null,
      "outputs": []
    }
  ]
}