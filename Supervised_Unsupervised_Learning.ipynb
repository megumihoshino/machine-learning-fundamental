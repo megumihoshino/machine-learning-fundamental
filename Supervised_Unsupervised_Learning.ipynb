{
  "nbformat": 4,
  "nbformat_minor": 0,
  "metadata": {
    "colab": {
      "provenance": [],
      "authorship_tag": "ABX9TyOk8gzHHA0AFktN0G6k+lLY",
      "include_colab_link": true
    },
    "kernelspec": {
      "name": "python3",
      "display_name": "Python 3"
    },
    "language_info": {
      "name": "python"
    }
  },
  "cells": [
    {
      "cell_type": "markdown",
      "metadata": {
        "id": "view-in-github",
        "colab_type": "text"
      },
      "source": [
        "<a href=\"https://colab.research.google.com/github/megumihoshino/machine-learning-fundamental/blob/main/Supervised_Unsupervised_Learning.ipynb\" target=\"_parent\"><img src=\"https://colab.research.google.com/assets/colab-badge.svg\" alt=\"Open In Colab\"/></a>"
      ]
    },
    {
      "cell_type": "code",
      "execution_count": null,
      "metadata": {
        "id": "CkbWUGjM3tA_"
      },
      "outputs": [],
      "source": [
        "#SUPERVISED LEARNING\n",
        "'''\n",
        "algoritma yg termsk supervised learning adlh klasifikasi, regresi, decision\n",
        "tree, dan support vector machine. sedangkan clustering, pendeteksian anomali\n",
        "dan pengurangan dimensi adlh jns unsupervised.\n",
        "\n",
        "seorg ilmuan AI, memperkenalkan \"cake analogy\" tentang ML. jika AI adlh sebuah\n",
        "kue, maka unsupervised akn mjd kuenya, supervised akn mjd lapisan gula, dan\n",
        "reinforcement akn mjd buah ceri. bisa dikatakan klo bagian unsupervised mjd\n",
        "bag. paling tebal, hal ini didasarkan pd data unsupervised yg bisa berjml\n",
        "jutaan bits per sample, dimana sm dgn 100 hingga 100k kali lbh besar dr supeevised.\n",
        "\n",
        "masalah yg dpt diselesaikan dg algorithm supervised learning:\n",
        "- regresi\n",
        "data penjualan properti. memprediksi hrg properti, nnti ouputnya adlh fungsi\n",
        "yg dpt digunakan utk memprediksi hrg properti sprt yg diminta.\n",
        "\n",
        "pd mslh regresi, kita akan mendpt data output yg kontinyu yg berupa fungsi.\n",
        "mksdnya, terdpt kontinuitas dlm keluaran model ML.\n",
        "example:\n",
        "saat kita memprediksi harga rumah, model kita memprediksi harganya Rp. 499.999.000 atau Rp. 500.100.000,\n",
        "padahal harga seharusnya adalah Rp. 500.000.000. Perbedaan ini tak jadi\n",
        "masalah sebab hasil prediksi dalam regresi linear akan berada dalam range\n",
        "bilangan numerik tertentu yang mendekati nilai seharusnya. Inilah yang\n",
        "dimaksud dengan regresi memberikan keluaran yang kontinyu.\n",
        "\n",
        "sedangkan pd mslh klasifikasi, kita akan memprediksi output dlm keluaran diskrit.\n",
        "misal: dlm pendeteksian email yg berupa spam dan bukan spam. jelas, klo tdk ada\n",
        "kontinuitas antara email spam dan bukan. serta tdk ada kategori antara email spam\n",
        "dan bukan.\n",
        "\n",
        "bbrp algoritma supervised learning:\n",
        "1. linear regression\n",
        "2. logistic regression\n",
        "3. classification\n",
        "4. decision tress\n",
        "5. support vector achines\n",
        "6. neural networks\n",
        "'''"
      ]
    },
    {
      "cell_type": "code",
      "source": [
        "#SUPERVISED: CLASSIFICATION\n",
        "'''\n",
        "1. binary classification\n",
        "klasifikasi ini menghasilkan 2 kategori\n",
        "2. multiclass classification\n",
        "terdiri lebih dari dua klasifikasi kelas atau byk kelas\n",
        "3. decision tree\n",
        "algoritma yg powerful utk masalah kompleks'''"
      ],
      "metadata": {
        "id": "WQYZV0mZ8YOF"
      },
      "execution_count": null,
      "outputs": []
    }
  ]
}