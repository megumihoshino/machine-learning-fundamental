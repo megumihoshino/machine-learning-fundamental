{
  "nbformat": 4,
  "nbformat_minor": 0,
  "metadata": {
    "colab": {
      "provenance": [],
      "authorship_tag": "ABX9TyOCwyQ8+5UMgT1UQTCUHuOO",
      "include_colab_link": true
    },
    "kernelspec": {
      "name": "python3",
      "display_name": "Python 3"
    },
    "language_info": {
      "name": "python"
    }
  },
  "cells": [
    {
      "cell_type": "markdown",
      "metadata": {
        "id": "view-in-github",
        "colab_type": "text"
      },
      "source": [
        "<a href=\"https://colab.research.google.com/github/megumihoshino/machine-learning-fundamental/blob/main/ML.ipynb\" target=\"_parent\"><img src=\"https://colab.research.google.com/assets/colab-badge.svg\" alt=\"Open In Colab\"/></a>"
      ]
    },
    {
      "cell_type": "code",
      "execution_count": null,
      "metadata": {
        "id": "ONVp4VOQSD-V"
      },
      "outputs": [],
      "source": [
        "#MACHINE LEARNING\n",
        "'''\n",
        "workflow dalam ML: data collection --> EDA (exploratory data analysis)\n",
        "--> data preprocessing--> model selection--> model evaluation -->deployment\n",
        "--> monitoring\n",
        "\n",
        "2. EDA\n",
        "EDA dilakukan dg 2 cara, univariate analysis (analisis deskroptif yg memeriksa\n",
        "pola dg satu variabel pd modelnya), multivariate analysis (analisis deskriptif yg\n",
        "memeriksa pola dlm data multidimensi dg mempertimbangkan 2 atau lbh variabel).\n",
        "lalu, ada bivariate analysis (jika terdpt dua variabel yg dianalisis).\n",
        "\n",
        "3. Data Preprocessing\n",
        "tahap dimn data diolah lbh lanjut shg siap dipakai dlm pengembangan model\n",
        "ML. dlm proses ini, terjadi transformasi fitur2 data ke dlm btk yg mudah\n",
        "diinterpretasikan oleh algorithm ML. dlm proses ini, ada termasuk data cleaning\n",
        "dan data transformation.\n",
        "\n",
        "ada bbrp hal yg dpt dilakukan dlm proses data cleaning, yaitu penanganan\n",
        "missing value, inkonsistensi data, duplikasi data, inequality data, dll. sementara\n",
        "hal2 yg bs ditangani dlm proses trasnformasi data yaitu, scalling, standarisasi,\n",
        "normalisasi, convert data mjd variabel kategori, lalu proses train test jg termsk\n",
        "dlm data preprocessing.'''\n"
      ]
    },
    {
      "cell_type": "code",
      "source": [
        "'''\n",
        "4. Model Selection\n",
        "dlm tahapan ini, kita dituntut utk bisa memilih model yg sesuai dg data. namun,\n",
        "kita tahu bhw tdk ada model yg cocok scr universal utk data dan 7an apapun. dg\n",
        "demikian, dlm konteks ML, model selection bs brrti 2 hal: pemilihan learning\n",
        "method atau algorithm ML dan pemilihan hyperparameter terbaik utk metode ML.\n",
        "\n",
        "5. Model Evaluation\n",
        "pd prinsipnya, proses model evaluation adlh menilai kinerja ML pd data baru, yaitu\n",
        "data yg blm pernah dilihat oleh model seblmnya. evaluasi model dilakukan utk\n",
        "membuat estimasi generalisasi eror dari model yg dipilih, yaitu sebrp baik kinerja\n",
        "model tsb pd data baru. idealnya, model ML yg baik adlh model yg tdk hny bekerja\n",
        "dgn baik pd data training, tp jg pd data baru.\n",
        "\n",
        "6. Deployment\n",
        "stlh model dievaluasi, maka model akan siap utk tahap produksi. dgn menyimpan\n",
        "model yg telah dilatih dari tahap preprocessing hingga pipeline predict. kemudian\n",
        "deploy model tsb ke tahap produksi utk membuat prediksi dgn memanggil kode\n",
        "predict().\n",
        "\n",
        "\n",
        "7. Monitoring\n",
        "monitoring pd model ML dilakukan utk menjaga kualitas, krn pd tahap produksi bisa\n",
        "saja ditemukan data yg tdk dikenali shg menurunkan performanya. jika bekerja pd\n",
        "model ML dgn data yg trs berubah, maka perlu melakukan update pd dataset dan melatih\n",
        "ulang model scr reguler. atau bs dibuat sistem otomatisasi.\n"
      ],
      "metadata": {
        "id": "fMQNAxGhTd2J"
      },
      "execution_count": null,
      "outputs": []
    },
    {
      "cell_type": "code",
      "source": [
        "#PERBEDAAN ML BUSINESS INTELLIGENCE DAN ML DATA ANALYTICS\n",
        "'''\n",
        "1. ML DAN BI (BUSINESS INTELLIGENCE)\n",
        "BI mengacu pd penggunaan berbagai alat dan teknologi glm proses pengumpulan,\n",
        "analisis, dan interpretasi data bisnis. 7an utama BI adlh utk memberikan\n",
        "informasi dan analisis yg berguna utk membantu proses pengambilan keputusan\n",
        "dan strategi perusahaan. BI lbh ke bidang yg menjelaskan apa yg terjd di masa\n",
        "lampau dan analisis yg menyebabkan hal tsb terjd. BI digunakan utk kepentingan\n",
        "bisnis dg teknik visualisasi. sedangkan ML dlm BI utk memprediksi pola yg terjd\n",
        "pd masa mendtg drp pola masa lalu.\n",
        "\n",
        "2. ML DI BIDANG DATA ANALYTIC\n",
        "data analitik adlh istilah luas yg mengacu pd penggunaan berbagai teknik utk mene\n",
        "mukan pola dlm data. baik itu utk sistem perusahaan, sosmed, smartphone, komputer\n",
        "klien, sensor, dan instrumen iOT."
      ],
      "metadata": {
        "id": "1YpQFd84YNFB"
      },
      "execution_count": null,
      "outputs": []
    }
  ]
}