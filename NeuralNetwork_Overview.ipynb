{
  "nbformat": 4,
  "nbformat_minor": 0,
  "metadata": {
    "colab": {
      "provenance": [],
      "authorship_tag": "ABX9TyPIQ/uNYWRpZRerIb18O1Eq",
      "include_colab_link": true
    },
    "kernelspec": {
      "name": "python3",
      "display_name": "Python 3"
    },
    "language_info": {
      "name": "python"
    }
  },
  "cells": [
    {
      "cell_type": "markdown",
      "metadata": {
        "id": "view-in-github",
        "colab_type": "text"
      },
      "source": [
        "<a href=\"https://colab.research.google.com/github/megumihoshino/machine-learning-fundamental/blob/main/NeuralNetwork_Overview.ipynb\" target=\"_parent\"><img src=\"https://colab.research.google.com/assets/colab-badge.svg\" alt=\"Open In Colab\"/></a>"
      ]
    },
    {
      "cell_type": "code",
      "execution_count": null,
      "metadata": {
        "id": "mbamGsBVzmjr"
      },
      "outputs": [],
      "source": [
        "#ARTIFICIAL NEURAL NETWORK (ANN)\n",
        "\n",
        "'''\n",
        "- ANN\n",
        "jaringan saraf tiruan atau ARTIFICIAL NEURAL NETWORK (ANN) adlh sebuah model\n",
        "ML yg terinspirasi dari neuron/saraf yg terdpt pd otak manusia. ANN merup\n",
        "salah 1 model ML yg multiguna, powerful, dan high scallability. degn kelebihan\n",
        "tsb, ANN sangat idela dipakai utk menangani mslh ML yg sngt kompleks sprt klasifikasi\n",
        "miliaran gbr, mengenali ratusan bhs dunia, merekomendasikan video ke ratusan\n",
        "juta user, hingga mengalahkan juara dunia permainan GO.\n",
        "\n",
        "PRINSIP KERJA DARI ANN merupakan penerapan dari mekanisme saraf manusia.\n",
        "cara kerja dari neuron sngt sederhana. tiap neuron terhubung dg bbrp ribu\n",
        "neuron lainnya.\n",
        "\n",
        "- PERCEPTRON\n",
        "perceptron merup komponen dasar pembangun jaringan saraf tiruan. sebuah perceptron\n",
        "terdiri dari 5 komponen yaitu:\n",
        "  1. input (xi)\n",
        "  2. bobot atau weights (wi) dan bias (w0)\n",
        "  3. penjmlhn atau sum\n",
        "  4. fungsi aktivasi atau non linearity funct\n",
        "  5. output (y)\n",
        "\n",
        "cara kerja dari sebuah perceptron yaitu menerima masukan berupa bilangan numerik.\n",
        "perceptron kemudian memproses masukan tsb utk menghasilkan sebuah keluaran.\n",
        "\n",
        "*Ada 3 fungsi aktivasi yg paling umum yaitu sigmoid funct, hyperbolic tangent,\n",
        "dan rectified linear unit (ReLU).\n",
        "\n",
        "1. SIGMOID OR LOGISTIC FUNCTION\n",
        "fungsi ini berada di antara nilai 0 hingga 1 shg biasanya digunakan utk memprediksi\n",
        "model probabilitas yg outputnya ada di kisaran 0 dan 1.\n",
        "\n",
        "2. HYPERBOLIC TANGENT (TANH)\n",
        "fungsi tanh sama sprt fungsi tanh berbtk S, kontinu, dan dpt dibedakan. perbe\n",
        "daanya adlh nilai keluaranya berkisar dari -1 hingga 1. rentang tsb membuat keluaran\n",
        "setiap lapisan kurleb nerpusat di sktr 0 pd awal pelatihan shg dpt membantu mem-\n",
        "percpt konvergensi, sifat zero centered ini membuat fungsi ini lbh mudah dlm memodelkan\n",
        "masukan yg memiliki nilai sngt negatif, netral dan sngt positif.\n",
        "\n",
        "3. RECTIFIED LINEAR UNIT (ReLU)\n",
        "fungsi relu bersifat kontinu meski kemiringannya berubah scr tiba2 dan nilai\n",
        "turunannya bernilai 0 pd z<0. fungsi relu sangat mempercepat wkt komputasi, maka\n",
        "fungsi relu sering digunakan sbg fungsi aktivasi default pd ANN.\n",
        "\n",
        "--> dense layer\n",
        "dense layer adlh sebuah lapisan yg terdiri dari 2 perceptron atau lebih. hidden\n",
        "layer adlh dense layer yg berada di antara input layer dan output layer.'''"
      ]
    },
    {
      "cell_type": "code",
      "source": [
        "#MULTI LAYER PERCEPTRON\n",
        "'''\n",
        "1. MLP\n",
        "sebuah jaringan saraf tiruan yg terdiri dari satu layer input atau lbh hidden layer,\n",
        "dan satu output layer. MLP yg memiliki byk hidden layer disebut jg DEEP NEURAL\n",
        "NETWORK (DNN). MLP merupakan ANN yg cukup sulit utk dilatih, hingga pd thn 1986\n",
        "ditemukan algorithm utk melatih MLP yg bernama backpropagation (propagasi balik).\n",
        "\n",
        "--> PROPAGASI BALIK\n",
        "algorithm propagasi balik yg memungkinkan MLP utk bljr membuat prediksi mjd lbh baik\n",
        "dg suatu teknik yg disebut chain rule.\n",
        "\n",
        "--> KLASIFIKASI DG MLP\n",
        "MLP adlh model ML kategori supervised shg MLP dpt dipakai dlm kasus klasifikasi\n",
        "dan regresi.'''\n",
        "\n"
      ],
      "metadata": {
        "id": "TDI8s6pxqNv7"
      },
      "execution_count": null,
      "outputs": []
    },
    {
      "cell_type": "code",
      "source": [
        "# CONVOLUTIONAL NEURAL NETWORK\n",
        "'''\n",
        "CNNs pertama kali dikenalkan oleh Yann LeCun et all, 1998 dlm makalahnya\n",
        "\"gradient-based learning applied to document recognition\". LeCun mengenalkan\n",
        "versi awal CNN yaitu LeNet yg berhasil mengenali karakter tulisan tangan.\n",
        "database yg digunakan LeCun adalah MNIST database of handwritten digits. sejak\n",
        "ditemukannya LeNet, byk peneliti yg melanjutkan riset ini utk mengembangkan model\n",
        "CNN yg lbh canggih. di tahun 2012, Alex Krizhevsky mengenalkan AlexNet, yg memenangkan\n",
        "perlombaan terkenal ImageNet, yg merup cikal bakal deep learning, salah 1 cabang\n",
        "AI yg menggunakan multi-layer neural networks.\n",
        "\n",
        "selain deep learning, salah 1 bidang menarik yg muncul dari perkembangan ML\n",
        "adlh computer vision. bidang ini memberi komputer kemampuan utk \"melihat\" sprt\n",
        "manusia. salah 1 implementasi dari comp vision adlh face recognition, hingga\n",
        "deteksi penyakit. salah 1 yg populer yaitu self driving cars.\n",
        "\n",
        "--> KLASIFIKASI GAMBAR\n",
        "komputer mendeteksi gambar dengan membaca angka. pd sebuah gambar dlm komputer,\n",
        "ada matriks yg berisi nilai dari setiap pixel di gbr. pd gbr BNW, gbr merup\n",
        "matriks 2D. pd gbr berwrn, gbr merup matriks 2D x 3D, dimn 3D terakhir adlh\n",
        "jml gbr berwarna yaitu RGB.\n",
        "\n",
        "--> CONVOLUTIONAL LAYER\n",
        "teknik convolutional layer dilakukan utk bs mengenali objek berdsrkan pixel2, selain\n",
        "itu dpt mengenali objek berdsrkan atribut yg memiliki lbh byk informasi.\n",
        "  - filter\n",
        "    convolutional layer dpt mengenali atribut pd objek menggunakan filter yg merup\n",
        "    sebuah matriks yg berisi angka2.\n",
        "  - proses konvolusi\n",
        "    adlh proses yg mengaplikasikan filter pd gbr. pd proses konvolsi ada perkalian\n",
        "    matriks thd filter dan area pd gbr. ketika proses konvolusi selesai,\n",
        "    hasil dr konvolusi tsb dptdijadikan masukan utk sebuha MLP.\n",
        "  - max pooling\n",
        "    stlh proses konvolusi pd gbr, akan dilakukan proses pooling. pooling\n",
        "    adlh proses utk mengurangi resolusi gbr dg ttp mempertahankan informasi\n",
        "    pd gbr. salah 1 cth dari pooling adlh max pooling. pd max pooling, di\n",
        "    antara setiap area dg luas pixel tertentu, akn diambil 1 buah pixel dg nilai\n",
        "    tertinggi. hsailnya akn mjd gbr baru. proses max pooling dipakai krn pd\n",
        "    praktiknya, jml filter yg digunakan pd konvolusi berjml byk. ketika kita\n",
        "    menggunakan 64 filter pd konvolusi, maka akn menghasilkan 64 gbr bru.'''\n",
        "\n",
        "#ARSITEKTUR CONVOLUTIONAL NEURAL NETWORK\n",
        "'''\n",
        "arsitektur CNN adlh sebuah jaringan saraf yg menggunakan sebuah layar konvolusi\n",
        "dan max pooling. kita dpt menggunakan bbrp lapis konvolusi, maka akan semakin\n",
        "detail fiur yg dpt dikenali ari gbr.\n",
        "\n",
        "cth:\n",
        "konvolusi +ReLU + pooling + konvolusi+ReLU + pooling+ fully connected\n",
        "+fully connected --> output predictions.'''"
      ],
      "metadata": {
        "id": "fjL4bpXx164i"
      },
      "execution_count": null,
      "outputs": []
    }
  ]
}