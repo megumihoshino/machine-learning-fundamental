{
  "nbformat": 4,
  "nbformat_minor": 0,
  "metadata": {
    "colab": {
      "provenance": [],
      "authorship_tag": "ABX9TyOSAkQ9zWKmlMt6rKxr+8yU",
      "include_colab_link": true
    },
    "kernelspec": {
      "name": "python3",
      "display_name": "Python 3"
    },
    "language_info": {
      "name": "python"
    }
  },
  "cells": [
    {
      "cell_type": "markdown",
      "metadata": {
        "id": "view-in-github",
        "colab_type": "text"
      },
      "source": [
        "<a href=\"https://colab.research.google.com/github/megumihoshino/machine-learning-fundamental/blob/main/TENSORFLOW_KERAS_OVERVIEW.ipynb\" target=\"_parent\"><img src=\"https://colab.research.google.com/assets/colab-badge.svg\" alt=\"Open In Colab\"/></a>"
      ]
    },
    {
      "cell_type": "code",
      "execution_count": null,
      "metadata": {
        "id": "VRbWaEQ-FsTW"
      },
      "outputs": [],
      "source": [
        "#TENSORFLOW (TF)\n",
        "\n",
        "'''\n",
        "TF adlh end-to-end open source platform yg dikembangkan oleh gugel brain\n",
        "dan sngat popular utk pengembangan ML berskala besar. TF digunakan scr luas\n",
        "pd berbagai produk keluaran gugel yg digunakan sehari-hari, antara lain\n",
        "gugel cloud speech, gugel photos, gmail, gugel search.\n",
        "\n",
        "--> BAGAIMANA TENSORFLOW BEKERJA\n",
        "  pada TF, data dimodelkan sbg tensor (array berdimensi-n) dg elemen yg mewakili\n",
        "  salah 1 dari tipe data int32, float32, atau string. scr alami, tensor mewakili\n",
        "  masukan utk operasi mtk dlm berbagai algorithm ML. sbg cth, perkalian matriks\n",
        "  membutuhkan 2 buah tensor 2D dan akn menghasilkan tensor 2D juga.\n",
        "\n",
        "  TF menggunakan grafik aliran data utk mewakili seluruh proses komputasi dan\n",
        "  state dlm algorithm ML, termsk operasi mtk, parameter, pembaruan aturan (update\n",
        "  rules), dan masukan preprocessing. grafik aliran data merepresentasikan komunikasi\n",
        "  antara sub kommputasi scr eksplisit shg mudah utk menjlnkan perhitungan independen\n",
        "  scr paralel.\n",
        "\n",
        "--> KEUNGGULAN TENSORFLOW\n",
        "  TF menggunkan python sbg FE API-nya shg mudah dan nyaman digunakan. TF ditulis\n",
        "  dan dieksekusi dg bhs C++ yg berkinerja tinggi. bbrp keunggulan TF:\n",
        "  - bs dijlnkan di hampir semua platform: GPU, CPU, dan TPU (TensorFlow Processing\n",
        "  Units) yg scr khusus dimanfaatkan utk mengerjakan MTK tensor.\n",
        "  - memberikan performa terbaik dg kemampuan melakukan iterasi dan melatih model\n",
        "  scr cpt shg mampu menjlnkan lbh byk eksperimen.\n",
        "  - skalabilitas komputasi yg tinggi pd kumpukan data yg sngt besar.\n",
        "  - pembuatan model yg mudah dg bbrp  lvl abstraksi sesuai kebutuhan.\n",
        "  - menyediakan jalur lngsng ke produksi, baik itu pd server, perangkat mobile\n",
        "  atau web shg memudahkan kita melakukan pipeline ML hingga ke lvl produksi.\n",
        "\n",
        "   +++ keunggulan yg sngt memudahkan dlm membangun proyek ML adlh TF mampu\n",
        "   mengerjakan pipeline ML dari lvl training hingga ke lvl produksi.\n",
        "'''"
      ]
    },
    {
      "cell_type": "code",
      "source": [
        "#KERAS LIBRARY\n",
        "\n",
        "'''\n",
        "keras adlh API utk mengembangkan ANN. dg Keras, kita dpt membuat sebuah multi\n",
        "layer perceptron dan convolutional neural network dg mudah. penerapan dari Keras\n",
        "sngt luas, jd kita bs membangun ANN utk klasifikasi gbr, pemrosesan bhs alami,\n",
        "pengenalan suara, dan prediksi time series.\n",
        "komponen inti pembangun ANN dlm Keras adlh layer. sebuah layer pd Keras, sm dgn\n",
        "sebuah layer pd MLP yg memiliki bbrp perceptron."
      ],
      "metadata": {
        "id": "-yixuC7lhPkz"
      },
      "execution_count": null,
      "outputs": []
    },
    {
      "cell_type": "code",
      "source": [
        "#CTH MODEL ML MENGGUNAKAN KERAS LIBRARY UTK KLASIFIKASI FASHION PD DATASET MNIST\n",
        "\n",
        "#mempersiapkan data kemudian membaginya mjd data latih dan data uji.\n",
        "mnist = tf.keras.datasets.fashion_mnist\n",
        "\n",
        "(x_train, y_train),(x_test, y_test) = mnist.load_data()\n",
        "x_train, x_test = x_train / 255.0, x_test / 255.0\n",
        "\n",
        "'''\n",
        "dlm klasifikasi gbr, setiap piksel pd gbr memiliki nilai dari 0-255. kita perlu\n",
        "melakukan normalisasi dg membagi setiap piksel pd gbr dg 255. dg nilai yg dinormalisasi,\n",
        "jaringan saraf dpt bljr lbh baik.'''"
      ],
      "metadata": {
        "id": "CyrNkWrijoDG"
      },
      "execution_count": null,
      "outputs": []
    },
    {
      "cell_type": "code",
      "source": [
        "#mendefinisikan arsitektur ANN yg akn kita latih\n",
        "#3 layer utama pd model sequential (input layer, hidden, dan output)\n",
        "\n",
        "model = tf.keras.models.Sequential([\n",
        "    tf.keras.layes.Flatten(input_shape=(28,28)),\n",
        "tf.keras.layers.Dense(512, activation = tf.nn.relu),\n",
        "tf.keras.layers.Dense(10, activation = tf.nn.softmax)\n",
        "])\n",
        "\n",
        "'''\n",
        "1. input layer: layer yg memiliki parameter \"input_shape\", yg merup. resolusi dari\n",
        "gbr2 pd data latih. dlm hal ini sebuah gbr MNIST memiliki resolusi 28x28 pixel.\n",
        "shg input shape-nya (28,28). sebuah layer Flatten pd Keras akn berfungsi utk meratakan\n",
        "input. meratakan mksdnya mengubah gbr yg merup. matriks 2D mjd larik 1D. pd kasus\n",
        "ini, sebuah gbr MNIST yg merup matriks 28x28 elemen akn diubah mjd larik/array 1D\n",
        "sebsr 784 elemen.\n",
        "\n",
        "2. hidden layer: dense layer pd Keras merup layer yg dpt dipakai sbg hidden layer\n",
        "dan output layer pd MLP. parameter unit merup jml perseptron pd sebuah layer.\n",
        "activation function adlh fungsi aktivasi yg digunakan adlh relu sbg hidden layer.\n",
        "\n",
        "3. output layer: didefinisikan dg membuat sebuah dense layer. jml unit menyesuaikan\n",
        "dg jml label pd dataset. utk fungsi aktivasi pd layer output, kita gunakan fungsi\n",
        "aktivasi Sigmoid ketika hny terdpt 2 kls/label pd dataset. utk dataset yg memiliki\n",
        "3 dataset atau lbh, kita dpt gunakan f. aktivasi softmax. f. aktivasi softmax akn\n",
        "memilih kls mana yg memiliki probabilitas tertinggi. utk data fashion MNIST, digunakan\n",
        "f.aktivasi softmax krn terdpt 10 kelas.'''"
      ],
      "metadata": {
        "id": "3URBvScIkhKW"
      },
      "execution_count": null,
      "outputs": []
    },
    {
      "cell_type": "code",
      "source": [
        "#MENENTUKAN OPTIMIZER DAN LOSS FUNCTION\n",
        "\n",
        "model.compile(optimizer = tf.optimizers.Adam(),\n",
        "              loss='sparse_categorial_crossentropy',\n",
        "              metrics=['accuracy'])\n",
        "\n",
        "'''\n",
        "- utk optimizer, digunakan Adam. selanjutnya utk loss function kita dpt menggunakan\n",
        "sparse categorical entropy pd kasus klasifikasi 3 kelas atau lbh.\n",
        "- utk mslh 2 kls, loss function yg lbh tepat adlh binary cross entropy. parameter\n",
        "metrics berfungsi utk menampilkan metrik yg dipilih pd proses pelatihan model.'''"
      ],
      "metadata": {
        "id": "O1QgFYWRm_Te"
      },
      "execution_count": null,
      "outputs": []
    },
    {
      "cell_type": "code",
      "source": [
        "#LATIH MODEL PD DATA TRAINING.\n",
        "\n",
        "model.fit(x_train, y_train, epoch = 10)\n",
        "\n",
        "'''stlh membuat arsitektur MLP dan menentukan optimizer serta loss functionnya, kita\n",
        "dpt melatih model pd data training. parameter epoch merup. jml brp kli sebuah model\n",
        "melakukan propagasi balik.'''"
      ],
      "metadata": {
        "id": "BCI53mUVn7VW"
      },
      "execution_count": null,
      "outputs": []
    }
  ]
}