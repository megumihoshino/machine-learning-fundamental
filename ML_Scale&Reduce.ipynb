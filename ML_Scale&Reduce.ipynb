{
  "nbformat": 4,
  "nbformat_minor": 0,
  "metadata": {
    "colab": {
      "provenance": [],
      "authorship_tag": "ABX9TyP6y6xOBQJwtOkQzX3FiMif",
      "include_colab_link": true
    },
    "kernelspec": {
      "name": "python3",
      "display_name": "Python 3"
    },
    "language_info": {
      "name": "python"
    }
  },
  "cells": [
    {
      "cell_type": "markdown",
      "metadata": {
        "id": "view-in-github",
        "colab_type": "text"
      },
      "source": [
        "<a href=\"https://colab.research.google.com/github/megumihoshino/machine-learning-fundamental/blob/main/ML_Scale%26Reduce.ipynb\" target=\"_parent\"><img src=\"https://colab.research.google.com/assets/colab-badge.svg\" alt=\"Open In Colab\"/></a>"
      ]
    },
    {
      "cell_type": "code",
      "execution_count": null,
      "metadata": {
        "id": "a73cK9oCku-l"
      },
      "outputs": [],
      "source": [
        "#MENAMBAHKAN DAN MENGURANGI FITUR\n",
        "\n",
        "'''\n",
        "Macam-macam teknik rekayasa fitur dalam ML\n",
        "\n",
        "1. BINNING OR BUCKETING\n",
        "pengelompokkan nilai sesuai dg batas besaran yg ditentukan. '''\n",
        "\n",
        "#example binning pada dataframe pandas\n",
        "data['bin'] = pd.cut(data['value'], bins=[0, 30, 70, 100], labels=[\"low\", \"mid\", \"high\"])\n",
        "\n",
        "#example output\n",
        "    value    bin\n",
        "0   13       low\n",
        "1   25       low\n",
        "2   32       mid\n",
        "3   94       high\n",
        "4   49       mid\n",
        "\n",
        "'''\n",
        "aplikasi binning pada model linear hny bs menghasilkan relasi linear, yg mana\n",
        "hasil regresinya merup. garis pd fitur tunggal. di sisi lain, model decision\n",
        "tree dpt menghasilkan model yg lbh kompleks dari data,meskipun model ini\n",
        "bergantung pd representasi data. salah 1 cara utk membuat model linear lbh\n",
        "efektif dlm data kontinyu adlh dg melakukan proses binning pd fitur.\n",
        "\n",
        "the purpose of binning is to transform numeric features into categorical features\n",
        "by using a set of thresholds.\n",
        "'''"
      ]
    },
    {
      "cell_type": "code",
      "source": [
        "'''\n",
        "2. SPLITTING\n",
        "splitting merupakan salah satu cara utk memisahkan sebuah atribut mjd atribut2\n",
        "baru utk lbh mudah dipahami oleh machine learning. dg splitting kita bisa\n",
        "menghindari terjadinya pelanggaran prinsip TIDY DATA.\n",
        "\n",
        "tidy data adalah cara standar utk memetakan makna kumpulan data ke dlm struktur\n",
        "yg teratur. ketika data diatur dg prinsip tidy, analisis dan pemrosesan data mjd\n",
        "lbh mudah krn kita memiliki format yg konsisten. prinsipnya adalah:\n",
        "\n",
        "1. setiap kolom adlh variabel\n",
        "  - tiap kolom dlm dataset hrs mewakili 1 variabel\n",
        "  - cth: kolom \"usia\" berarti mewakili variabel usia.\n",
        "2. tiap baris adlh pengamatan\n",
        "  - tiap baris dlm dataset mewakili 1 pengamatan/kasus.\n",
        "  - jika kita pny data tentang bbrp mhs, maka tiap baris mewakili 1 mhs.\n",
        "3. tiap sel adlh nilai tunggal\n",
        "  - tiap sel dlm tabel hny berisi 1 nilai\n",
        "  - utk memastikan bhw data tdk tumpang tindih/ambigu.\n"
      ],
      "metadata": {
        "id": "jov03vV8V4lv"
      },
      "execution_count": null,
      "outputs": []
    },
    {
      "cell_type": "code",
      "source": [
        "#example for splitting (buat atribut lain dari atribut utama)\n",
        "#nama awal dan akhir\n",
        "\n",
        "import pandas as pd\n",
        "developer = pd.DataFrame({'Nama' : ['Hoshino Megumi', 'Tsukishima Kei', 'Yukimiya Kenyu'],\n",
        "                          'Age':[23, 27, 22]})\n",
        "print(\"Machine Learning Developer di Jepang: \\n\", developer)\n",
        "\n",
        "developer[['First', 'Last']] = developer.Nama.str.split(expand=True)\n",
        "print(\"\\n Split kolom 'Nama', lalu tambahkan kedua kolom: \\n\", developer)"
      ],
      "metadata": {
        "colab": {
          "base_uri": "https://localhost:8080/"
        },
        "id": "sNETb3wpqAIe",
        "outputId": "ae208d90-dcc7-47fc-adbd-630aedd4f545"
      },
      "execution_count": 3,
      "outputs": [
        {
          "output_type": "stream",
          "name": "stdout",
          "text": [
            "Machine Learning Developer di Jepang: \n",
            "              Nama  Age\n",
            "0  Hoshino Megumi   23\n",
            "1  Tsukishima Kei   27\n",
            "2  Yukimiya Kenyu   22\n",
            "\n",
            " Split kolom 'Nama', lalu tambahkan kedua kolom: \n",
            "              Nama  Age       First    Last\n",
            "0  Hoshino Megumi   23     Hoshino  Megumi\n",
            "1  Tsukishima Kei   27  Tsukishima     Kei\n",
            "2  Yukimiya Kenyu   22    Yukimiya   Kenyu\n"
          ]
        }
      ]
    },
    {
      "cell_type": "code",
      "source": [
        "#example 2 for splitting\n",
        "#taksonomi pada tumbuhan (plantae)\n",
        "\n",
        "import pandas as pd\n",
        "\n",
        "tumbuhan_obat = pd.DataFrame({'Nama_Latin':['Physalis angulata','Uncaria gambir',\n",
        "                                             'Morinda citrifolia','Piper betle',\n",
        "                                             'Evodia suaveolens'],'Nama Tanaman Obat':\n",
        "                               ['Ciplukan', 'Gambir', 'Mengkudu','Sirih','Zodia']})\n",
        "print(\"Nama latin tumbuhan obat: \\n\", tumbuhan_obat)\n",
        "\n",
        "tumbuhan_obat[['Genus','Species']]=tumbuhan_obat.Nama_Latin.str.split(expand = True)\n",
        "print(\"\\n Hasil Splitting: \\n\", tumbuhan_obat)"
      ],
      "metadata": {
        "colab": {
          "base_uri": "https://localhost:8080/"
        },
        "id": "vESXBk3EsU4z",
        "outputId": "ebf8c699-4d2e-490b-90cb-a3df29af8dae"
      },
      "execution_count": 4,
      "outputs": [
        {
          "output_type": "stream",
          "name": "stdout",
          "text": [
            "Nama latin tumbuhan obat: \n",
            "            Nama_Latin Nama Tanaman Obat\n",
            "0   Physalis angulata          Ciplukan\n",
            "1      Uncaria gambir            Gambir\n",
            "2  Morinda citrifolia          Mengkudu\n",
            "3         Piper betle             Sirih\n",
            "4   Evodia suaveolens             Zodia\n",
            "\n",
            " Hasil Splitting: \n",
            "            Nama_Latin Nama Tanaman Obat     Genus     Species\n",
            "0   Physalis angulata          Ciplukan  Physalis    angulata\n",
            "1      Uncaria gambir            Gambir   Uncaria      gambir\n",
            "2  Morinda citrifolia          Mengkudu   Morinda  citrifolia\n",
            "3         Piper betle             Sirih     Piper       betle\n",
            "4   Evodia suaveolens             Zodia    Evodia  suaveolens\n"
          ]
        }
      ]
    },
    {
      "cell_type": "code",
      "source": [
        "'''\n",
        "3. INTERACTION FEATURE\n",
        "membuat atribut baru melalui interaksi antar atribut. simpelnya, interaction\n",
        "feature adalah perkalian produk dua buah fitur, analoginya AND.\n",
        "\n",
        "contoh:\n",
        "- kita punya atribut bernama 'middle_blockers' yaitu nama2 MB utk setiap\n",
        "tim voli.\n",
        "- kita punya atribut bernama '11_backnumber' yg merup sejml MB yg memiliki\n",
        "nomor punggung 11.\n",
        "- utk menemukan nama MB utk setiap tim voli bernomor punggung 11, kita\n",
        "bisa mengakomodasi kebutuhan tsb dgn membuat atribut baru, misalnya:\n",
        "'MB_11' = 'middle_blockers' x '11_backnumber'.\n",
        "\n",
        "utk interaction feature ini mudah dirumuskan, namun biaya komputasinya ckp\n",
        "tinggi. utk sebuah model linear dg interaction feature berpasangan, kebutuhan\n",
        "wkt pelatihannya akn berubah dari O(n) mjd O(n^2), dimana n adlh jml fitur\n",
        "tunggal.\n",
        "\n",
        "ada bbrp cara utk mengatasi masalah ini. pertama dg melakukan feature selection,\n",
        "teknik lain adlh feature engineering. cara ke2 adlh dg menyusun (handcrafted)\n",
        "sejml kecil fitur kompleks scr hati2.\n",
        "'''\n",
        "\n"
      ],
      "metadata": {
        "id": "XRKQRwwmujJ2"
      },
      "execution_count": null,
      "outputs": []
    }
  ]
}